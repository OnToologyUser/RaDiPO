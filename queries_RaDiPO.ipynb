{
 "cells": [
  {
   "cell_type": "markdown",
   "metadata": {},
   "source": [
    "# SPARQL queries to RaDiPO ontology"
   ]
  },
  {
   "cell_type": "code",
   "execution_count": 2,
   "metadata": {},
   "outputs": [
    {
     "name": "stdout",
     "output_type": "stream",
     "text": [
      "Collecting rdflibNote: you may need to restart the kernel to use updated packages.\n",
      "  Downloading rdflib-6.1.1-py3-none-any.whl (482 kB)\n",
      "Collecting isodate\n",
      "  Downloading isodate-0.6.1-py2.py3-none-any.whl (41 kB)\n",
      "Requirement already satisfied: setuptools in c:\\users\\usuario\\anaconda3\\lib\\site-packages (from rdflib) (58.0.4)\n",
      "Requirement already satisfied: pyparsing in c:\\users\\usuario\\anaconda3\\lib\\site-packages (from rdflib) (3.0.4)\n",
      "Requirement already satisfied: six in c:\\users\\usuario\\anaconda3\\lib\\site-packages (from isodate->rdflib) (1.16.0)\n",
      "Installing collected packages: isodate, rdflib\n",
      "Successfully installed isodate-0.6.1 rdflib-6.1.1\n",
      "\n"
     ]
    }
   ],
   "source": [
    "%pip install rdflib"
   ]
  },
  {
   "cell_type": "code",
   "execution_count": 51,
   "metadata": {},
   "outputs": [
    {
     "data": {
      "text/plain": [
       "<Graph identifier=N8af268ba886d4c678a98a6a731f4c3a3 (<class 'rdflib.graph.Graph'>)>"
      ]
     },
     "execution_count": 51,
     "metadata": {},
     "output_type": "execute_result"
    }
   ],
   "source": [
    "import rdflib\n",
    "onto = rdflib.Graph()\n",
    "onto.parse(\"C:/Users/Usuario/Documents/GitHub/RaDiPO/radipo.owl\")"
   ]
  },
  {
   "cell_type": "markdown",
   "metadata": {},
   "source": [
    "**1. Number of disorders (clinical entity)**"
   ]
  },
  {
   "cell_type": "code",
   "execution_count": 11,
   "metadata": {},
   "outputs": [
    {
     "name": "stdout",
     "output_type": "stream",
     "text": [
      "Number of disorders:  4199\n"
     ]
    }
   ],
   "source": [
    "query1 = onto.query(\"\"\"\n",
    "        PREFIX radipo:<https://w3id.org/def/radipo#> \n",
    "        SELECT (COUNT (DISTINCT ?disorder) AS ?num_disorders)\n",
    "        WHERE\n",
    "        {?disorder a radipo:Clinical_entity  .\n",
    "        }\"\"\")\n",
    "\n",
    "for row in query1:\n",
    "    print(\"Number of disorders: \", row.num_disorders)"
   ]
  },
  {
   "cell_type": "markdown",
   "metadata": {},
   "source": [
    "**2. Number of proteins**"
   ]
  },
  {
   "cell_type": "code",
   "execution_count": 10,
   "metadata": {},
   "outputs": [
    {
     "name": "stdout",
     "output_type": "stream",
     "text": [
      "Number of proteins:  4262\n"
     ]
    }
   ],
   "source": [
    "query = onto.query(\"\"\"\n",
    "        PREFIX radipo:<https://w3id.org/def/radipo#> \n",
    "        SELECT (COUNT (DISTINCT ?protein) AS ?num_proteins)\n",
    "        WHERE\n",
    "        {?protein a radipo:Protein  .\n",
    "        }\"\"\")\n",
    "\n",
    "for row in query:\n",
    "    print(\"Number of proteins: \", row.num_proteins)"
   ]
  },
  {
   "cell_type": "markdown",
   "metadata": {},
   "source": [
    "**3. Number of disorders with symptom \"Intellectual disability\"**"
   ]
  },
  {
   "cell_type": "code",
   "execution_count": 35,
   "metadata": {},
   "outputs": [
    {
     "name": "stdout",
     "output_type": "stream",
     "text": [
      "Number of disorders with symptom Intellectual disability:  772\n"
     ]
    }
   ],
   "source": [
    "query = onto.query(\"\"\"\n",
    "        PREFIX radipo:<https://w3id.org/def/radipo#> \n",
    "        PREFIX rdf:<http://www.w3.org/1999/02/22-rdf-syntax-ns#>\n",
    "        SELECT (COUNT (DISTINCT ?disorder) AS ?num_disorders)\n",
    "        WHERE\n",
    "        {?disorder a radipo:Clinical_entity  ;\n",
    "                radipo:has_symptom ?symptom.\n",
    "         ?symptom rdf:type radipo:Symptom ;\n",
    "                radipo:has_symptom_name ?symptom_name .\n",
    "        FILTER (CONTAINS(?symptom_name, \"Intellectual disability\"))\n",
    "        \n",
    "        }\"\"\")\n",
    "        \n",
    "for row in query:\n",
    "    print(\"Number of disorders with symptom Intellectual disability: \", row.num_disorders)"
   ]
  },
  {
   "cell_type": "markdown",
   "metadata": {},
   "source": [
    "**4. Ids of enzymes and the catalytic activity**"
   ]
  },
  {
   "cell_type": "code",
   "execution_count": 48,
   "metadata": {},
   "outputs": [
    {
     "name": "stdout",
     "output_type": "stream",
     "text": [
      "Disorder ID\tEnzyme activity\n",
      "O00238 \t Reaction=ATP + L-threonyl-[receptor-protein] = ADP + H(+) + O-phospho-L-threonyl-[receptor-protein]\n",
      "O00429 \t Reaction=GTP + H2O = GDP + H(+) + phosphate\n",
      "O14672 \t Reaction=Endopeptidase of broad specificity.\n",
      "O14832 \t Reaction=2-oxoglutarate + O2 + phytanoyl-CoA = 2-hydroxyphytanoyl-CoA + CO2 + succinate\n",
      "O60674 \t Reaction=ATP + L-tyrosyl-[protein] = ADP + H(+) + O-phospho-L-tyrosyl-[protein]\n",
      "O60832 \t Reaction=uridine in 5S rRNA = pseudouridine in 5S rRNA\n",
      "O95263 \t Reaction=3',5'-cyclic AMP + H2O = AMP + H(+)\n",
      "P00734 \t Reaction=Selective cleavage of Arg-|-Gly bonds in fibrinogen to form fibrin and release fibrinopeptides A and B.\n",
      "P01111 \t Reaction=GTP + H2O = GDP + H(+) + phosphate\n",
      "P01112 \t Reaction=GTP + H2O = GDP + H(+) + phosphate\n"
     ]
    }
   ],
   "source": [
    "query = onto.query(\"\"\"\n",
    "        PREFIX radipo:<https://w3id.org/def/radipo#> \n",
    "        PREFIX rdf:<http://www.w3.org/1999/02/22-rdf-syntax-ns#>\n",
    "        SELECT ?id ?activity\n",
    "        WHERE\n",
    "        {?protein rdf:type radipo:Enzyme ;\n",
    "                radipo:has_protein_id ?id ;\n",
    "                radipo:has_catalytic_activity ?activity .\n",
    "        } LIMIT 10\"\"\")\n",
    "\n",
    "print(\"Disorder ID\\tEnzyme activity\")     \n",
    "for row in query:\n",
    "    print(row.id,\"\\t\", row.activity)"
   ]
  },
  {
   "cell_type": "markdown",
   "metadata": {},
   "source": [
    "**5. Drug name, id and phase related to a disorder **"
   ]
  },
  {
   "cell_type": "code",
   "execution_count": 69,
   "metadata": {},
   "outputs": [
    {
     "name": "stdout",
     "output_type": "stream",
     "text": [
      "Disorder name\tDrug name\tDrug ID\n",
      "Williams syndrome Rofecoxib DB00533\n",
      "Early-onset autosomal dominant Alzheimer disease Deferoxamine DB00746\n",
      "Early-onset autosomal dominant Alzheimer disease Aluminium DB01370\n",
      "Early-onset autosomal dominant Alzheimer disease Zinc DB01593\n",
      "Early-onset autosomal dominant Alzheimer disease Methionine Sulfoxide DB02235\n",
      "Early-onset autosomal dominant Alzheimer disease Resveratrol DB02709\n",
      "Early-onset autosomal dominant Alzheimer disease Tris(Hydroxymethyl)Aminomethane DB03754\n",
      "Early-onset autosomal dominant Alzheimer disease Phenserine DB04892\n",
      "Early-onset autosomal dominant Alzheimer disease Tetrathiomolybdate DB05088\n",
      "Early-onset autosomal dominant Alzheimer disease Dimercaprol DB06782\n"
     ]
    }
   ],
   "source": [
    "query = onto.query(\"\"\"\n",
    "        PREFIX radipo:<https://w3id.org/def/radipo#> \n",
    "        PREFIX rdf:<http://www.w3.org/1999/02/22-rdf-syntax-ns#>\n",
    "        SELECT ?disorder_name ?drug_name ?drug_id \n",
    "        WHERE\n",
    "        {\n",
    "            ?disorder a radipo:Clinical_entity ;\n",
    "                    radipo:is_associated_to_gene ?gene ;\n",
    "                    radipo:has_disorder_name ?disorder_name .\n",
    "            ?gene rdf:type radipo:Gene_with_protein ;\n",
    "                radipo:has_protein_product ?protein .\n",
    "            ?protein radipo:is_target_of ?drug .\n",
    "            ?drug radipo:has_drug_name ?drug_name ;\n",
    "                radipo:has_drug_id ?drug_id .\n",
    "                \n",
    "        } LIMIT 10\"\"\")\n",
    "\n",
    "print(\"Disorder name\\tDrug name\\tDrug ID\")     \n",
    "for row in query:\n",
    "        print(row.disorder_name, row.drug_name, row.drug_id)\n"
   ]
  },
  {
   "cell_type": "markdown",
   "metadata": {},
   "source": [
    "We can turn this into a table and use it for searching drugs related to a disease. The drugs are ralated to the protein related to the disorder, so their indications could not be the said disorder. However, there are research lines exploring how if these drugs can be applied for drug therapy in rare diseases too. This information could be a starting point of a research project for looking for drugs for a specific disorder.\n"
   ]
  },
  {
   "cell_type": "markdown",
   "metadata": {},
   "source": [
    "**6.Number of consequences/disabilities**"
   ]
  },
  {
   "cell_type": "code",
   "execution_count": 70,
   "metadata": {},
   "outputs": [
    {
     "name": "stdout",
     "output_type": "stream",
     "text": [
      "Number of consequences/disabilities:  843\n"
     ]
    }
   ],
   "source": [
    "query = onto.query(\"\"\"\n",
    "        PREFIX radipo:<https://w3id.org/def/radipo#> \n",
    "        SELECT (COUNT (DISTINCT ?disability) AS ?num_dis)\n",
    "        WHERE\n",
    "        {?disability a radipo:Disability  .\n",
    "        }\"\"\")\n",
    "\n",
    "for row in query:\n",
    "    print(\"Number of consequences/disabilities: \", row.num_dis)"
   ]
  },
  {
   "cell_type": "markdown",
   "metadata": {},
   "source": [
    "**7.Disorders whose patients have affected their writing skills**"
   ]
  },
  {
   "cell_type": "code",
   "execution_count": 92,
   "metadata": {},
   "outputs": [
    {
     "name": "stdout",
     "output_type": "stream",
     "text": [
      "Autosomal dominant optic atrophy plus syndrome\n",
      "X-linked cerebral adrenoleukodystrophy\n",
      "Trichothiodystrophy\n",
      "Infantile spasms syndrome\n",
      "Treacher-Collins syndrome\n",
      "WAGR syndrome\n",
      "Waardenburg syndrome type 1\n",
      "Waardenburg syndrome type 2\n",
      "Waardenburg-Shah syndrome\n",
      "Williams syndrome\n",
      "Autosomal dominant optic atrophy, classic form\n",
      "X-linked Emery-Dreifuss muscular dystrophy\n"
     ]
    }
   ],
   "source": [
    "query = onto.query(\"\"\"\n",
    "        PREFIX radipo:<https://w3id.org/def/radipo#> \n",
    "\n",
    "        SELECT ?name\n",
    "        WHERE\n",
    "        {\n",
    "                ?ability_class a radipo:Ability_affected  ;\n",
    "                        radipo:ability_specification ?ability .\n",
    "                FILTER (?ability = \"Writing\"^^xsd:string) .\n",
    "\n",
    "                ?disability rdf:type radipo:Disability;\n",
    "                        radipo:affects_ability ?ability_class .\n",
    "\n",
    "                ?disorder radipo:is_associated_to_disability ?disability;\n",
    "                        radipo:has_disorder_name ?name .\n",
    "\n",
    "                 \n",
    "        }\"\"\")\n",
    "\n",
    "for row in query:\n",
    "        print(row.name)\n"
   ]
  },
  {
   "cell_type": "markdown",
   "metadata": {},
   "source": [
    "**8. Number of disorders with patients that have the skill \"Transferring oneself\" affected.**"
   ]
  },
  {
   "cell_type": "code",
   "execution_count": 102,
   "metadata": {},
   "outputs": [
    {
     "name": "stdout",
     "output_type": "stream",
     "text": [
      "7\n"
     ]
    }
   ],
   "source": [
    "query = onto.query(\"\"\"\n",
    "        PREFIX radipo:<https://w3id.org/def/radipo#> \n",
    "\n",
    "        SELECT (COUNT(DISTINCT ?disorder) AS ?num_dis)\n",
    "        WHERE\n",
    "        {\n",
    "                ?ability_class a radipo:Ability_affected  ;\n",
    "                        radipo:ability_specification ?ability .\n",
    "                FILTER (?ability = \"Transferring oneself\"^^xsd:string) .\n",
    "\n",
    "                ?disability rdf:type radipo:Disability;\n",
    "                        radipo:affects_ability ?ability_class .\n",
    "\n",
    "                ?disorder radipo:is_associated_to_disability ?disability.\n",
    "        \n",
    "        }\"\"\")\n",
    "\n",
    "for row in query:\n",
    "        print(row.num_dis)"
   ]
  },
  {
   "cell_type": "markdown",
   "metadata": {},
   "source": [
    "Patients with these disability may need physical therapy, which is an information needed by health professionals "
   ]
  }
 ],
 "metadata": {
  "interpreter": {
   "hash": "11ffc019a02cc0e21e59860b66c88ea81995ce9237607e8ab2c087a287ee4867"
  },
  "kernelspec": {
   "display_name": "Python 3.8.12 64-bit ('base': conda)",
   "language": "python",
   "name": "python3"
  },
  "language_info": {
   "codemirror_mode": {
    "name": "ipython",
    "version": 3
   },
   "file_extension": ".py",
   "mimetype": "text/x-python",
   "name": "python",
   "nbconvert_exporter": "python",
   "pygments_lexer": "ipython3",
   "version": "3.8.12"
  },
  "orig_nbformat": 4
 },
 "nbformat": 4,
 "nbformat_minor": 2
}
